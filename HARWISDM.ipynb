{
 "cells": [
  {
   "cell_type": "code",
   "execution_count": 1,
   "metadata": {},
   "outputs": [
    {
     "name": "stderr",
     "output_type": "stream",
     "text": [
      "Using TensorFlow backend.\n"
     ]
    }
   ],
   "source": [
    "import pandas as pd\n",
    "import numpy as np\n",
    "import matplotlib.pyplot as plt\n",
    "import seaborn as sns\n",
    "from scipy import stats\n",
    "from sklearn import metrics\n",
    "from sklearn.model_selection import train_test_split\n",
    "from keras.models import Sequential, Model\n",
    "from keras.layers import Dense\n",
    "from keras.layers import Flatten\n",
    "from keras.layers import Dropout\n",
    "from keras.callbacks import ModelCheckpoint\n",
    "from keras.layers.convolutional import Conv1D\n",
    "from keras.layers.convolutional import MaxPooling1D\n",
    "RANDOM_SEED = 42"
   ]
  },
  {
   "cell_type": "markdown",
   "metadata": {},
   "source": [
    "# Load Dataset"
   ]
  },
  {
   "cell_type": "code",
   "execution_count": 2,
   "metadata": {},
   "outputs": [],
   "source": [
    "columns = ['user','activity','timestamp', 'x-axis', 'y-axis', 'z-axis']\n",
    "df = pd.read_csv('data/WISDM_ar_v1.1_raw.txt', header = None, names = columns)\n",
    "df = df.dropna()"
   ]
  },
  {
   "cell_type": "code",
   "execution_count": 3,
   "metadata": {},
   "outputs": [
    {
     "name": "stdout",
     "output_type": "stream",
     "text": [
      "Total rows :  1098203\n"
     ]
    },
    {
     "data": {
      "text/html": [
       "<div>\n",
       "<style scoped>\n",
       "    .dataframe tbody tr th:only-of-type {\n",
       "        vertical-align: middle;\n",
       "    }\n",
       "\n",
       "    .dataframe tbody tr th {\n",
       "        vertical-align: top;\n",
       "    }\n",
       "\n",
       "    .dataframe thead th {\n",
       "        text-align: right;\n",
       "    }\n",
       "</style>\n",
       "<table border=\"1\" class=\"dataframe\">\n",
       "  <thead>\n",
       "    <tr style=\"text-align: right;\">\n",
       "      <th></th>\n",
       "      <th>user</th>\n",
       "      <th>activity</th>\n",
       "      <th>timestamp</th>\n",
       "      <th>x-axis</th>\n",
       "      <th>y-axis</th>\n",
       "      <th>z-axis</th>\n",
       "    </tr>\n",
       "  </thead>\n",
       "  <tbody>\n",
       "    <tr>\n",
       "      <th>0</th>\n",
       "      <td>33</td>\n",
       "      <td>Jogging</td>\n",
       "      <td>49105962326000</td>\n",
       "      <td>-0.694638</td>\n",
       "      <td>12.680544</td>\n",
       "      <td>0.503953</td>\n",
       "    </tr>\n",
       "    <tr>\n",
       "      <th>1</th>\n",
       "      <td>33</td>\n",
       "      <td>Jogging</td>\n",
       "      <td>49106062271000</td>\n",
       "      <td>5.012288</td>\n",
       "      <td>11.264028</td>\n",
       "      <td>0.953424</td>\n",
       "    </tr>\n",
       "    <tr>\n",
       "      <th>2</th>\n",
       "      <td>33</td>\n",
       "      <td>Jogging</td>\n",
       "      <td>49106112167000</td>\n",
       "      <td>4.903325</td>\n",
       "      <td>10.882658</td>\n",
       "      <td>-0.081722</td>\n",
       "    </tr>\n",
       "    <tr>\n",
       "      <th>3</th>\n",
       "      <td>33</td>\n",
       "      <td>Jogging</td>\n",
       "      <td>49106222305000</td>\n",
       "      <td>-0.612916</td>\n",
       "      <td>18.496431</td>\n",
       "      <td>3.023717</td>\n",
       "    </tr>\n",
       "    <tr>\n",
       "      <th>4</th>\n",
       "      <td>33</td>\n",
       "      <td>Jogging</td>\n",
       "      <td>49106332290000</td>\n",
       "      <td>-1.184970</td>\n",
       "      <td>12.108489</td>\n",
       "      <td>7.205164</td>\n",
       "    </tr>\n",
       "  </tbody>\n",
       "</table>\n",
       "</div>"
      ],
      "text/plain": [
       "   user activity       timestamp    x-axis     y-axis    z-axis\n",
       "0    33  Jogging  49105962326000 -0.694638  12.680544  0.503953\n",
       "1    33  Jogging  49106062271000  5.012288  11.264028  0.953424\n",
       "2    33  Jogging  49106112167000  4.903325  10.882658 -0.081722\n",
       "3    33  Jogging  49106222305000 -0.612916  18.496431  3.023717\n",
       "4    33  Jogging  49106332290000 -1.184970  12.108489  7.205164"
      ]
     },
     "execution_count": 3,
     "metadata": {},
     "output_type": "execute_result"
    }
   ],
   "source": [
    "print('Total rows : ', len(df))\n",
    "df.head()"
   ]
  },
  {
   "cell_type": "markdown",
   "metadata": {},
   "source": [
    "## Plot Activity Types"
   ]
  },
  {
   "cell_type": "code",
   "execution_count": 4,
   "metadata": {},
   "outputs": [
    {
     "data": {
      "image/png": "[encoded data removed]",
      "text/plain": [
       "<Figure size 432x288 with 1 Axes>"
      ]
     },
     "metadata": {
      "needs_background": "light"
     },
     "output_type": "display_data"
    }
   ],
   "source": [
    "df['activity'].value_counts().plot(kind='bar', title='Training examples by activity type');"
   ]
  },
  {
   "cell_type": "markdown",
   "metadata": {},
   "source": [
    "# Normalize Training Data"
   ]
  },
  {
   "cell_type": "code",
   "execution_count": 5,
   "metadata": {},
   "outputs": [],
   "source": [
    "# Normalize features for training data set (values between 0 and 1)\n",
    "# Surpress warning for next 3 operation\n",
    "pd.options.mode.chained_assignment = None  # default='warn'\n",
    "\n",
    "df['x-axis'] = df['x-axis'] / df['x-axis'].max()\n",
    "df['y-axis'] = df['y-axis'] / df['y-axis'].max()\n",
    "df['z-axis'] = df['z-axis'] / df['z-axis'].max()\n",
    "# Round numbers\n",
    "df = df.round({'x-axis': 4, 'y-axis': 4, 'z-axis': 4})"
   ]
  },
  {
   "cell_type": "markdown",
   "metadata": {},
   "source": [
    "## Data Preprocessing"
   ]
  },
  {
   "cell_type": "code",
   "execution_count": 6,
   "metadata": {},
   "outputs": [
    {
     "name": "stderr",
     "output_type": "stream",
     "text": [
      "C:\\Users\\admin\\Anaconda3\\lib\\site-packages\\scipy\\stats\\stats.py:245: RuntimeWarning: The input array could not be properly checked for nan values. nan values will be ignored.\n",
      "  \"values. nan values will be ignored.\", RuntimeWarning)\n"
     ]
    }
   ],
   "source": [
    "N_TIME_STEPS = 200\n",
    "N_FEATURES = 3\n",
    "step = 20\n",
    "segments = []\n",
    "labels = []\n",
    "for i in range(0, len(df) - N_TIME_STEPS, step):\n",
    "    xs = df['x-axis'].values[i: i + N_TIME_STEPS]\n",
    "    ys = df['y-axis'].values[i: i + N_TIME_STEPS]\n",
    "    zs = df['z-axis'].values[i: i + N_TIME_STEPS]\n",
    "    label = stats.mode(df['activity'][i: i + N_TIME_STEPS])[0][0]\n",
    "    segments.append([xs, ys, zs])\n",
    "    labels.append(label)"
   ]
  },
  {
   "cell_type": "code",
   "execution_count": 7,
   "metadata": {},
   "outputs": [],
   "source": [
    "reshaped_segments = np.asarray(segments, dtype= np.float32).reshape(-1, N_TIME_STEPS, N_FEATURES)\n",
    "labels = np.asarray(pd.get_dummies(labels), dtype = np.float32)\n"
   ]
  },
  {
   "cell_type": "code",
   "execution_count": 8,
   "metadata": {},
   "outputs": [
    {
     "name": "stdout",
     "output_type": "stream",
     "text": [
      "(54901, 200, 3)\n",
      "[0. 1. 0. 0. 0. 0.]\n"
     ]
    }
   ],
   "source": [
    "print(reshaped_segments.shape)\n",
    "print(labels[0])"
   ]
  },
  {
   "cell_type": "code",
   "execution_count": 9,
   "metadata": {},
   "outputs": [],
   "source": [
    "X_train, X_test, y_train, y_test = train_test_split(\n",
    "        reshaped_segments, labels, test_size=0.5, random_state=RANDOM_SEED)"
   ]
  },
  {
   "cell_type": "code",
   "execution_count": 10,
   "metadata": {},
   "outputs": [
    {
     "name": "stdout",
     "output_type": "stream",
     "text": [
      "X_train :  27450\n",
      "X_test :  27451\n"
     ]
    }
   ],
   "source": [
    "print('X_train : ', len(X_train))\n",
    "print('X_test : ', len(X_test))"
   ]
  },
  {
   "cell_type": "code",
   "execution_count": 11,
   "metadata": {},
   "outputs": [
    {
     "name": "stdout",
     "output_type": "stream",
     "text": [
      "n_timesteps :  200\n",
      "n_features :  3\n",
      "n_outputs :  6\n"
     ]
    }
   ],
   "source": [
    "verbose = 1\n",
    "epochs = 10\n",
    "batch_size = 400\n",
    "\n",
    "n_timesteps = X_train.shape[1]\n",
    "n_features = X_train.shape[2]\n",
    "n_outputs = y_train.shape[1]\n",
    "\n",
    "print('n_timesteps : ', n_timesteps)\n",
    "print('n_features : ', n_features)\n",
    "print('n_outputs : ', n_outputs)"
   ]
  },
  {
   "cell_type": "code",
   "execution_count": 12,
   "metadata": {},
   "outputs": [],
   "source": [
    "checkpoint = ModelCheckpoint(\"wisdm_weights.h5\", monitor='val_acc', verbose=1, \n",
    "                             save_best_only=True, save_weights_only=False, mode='auto', period=1)"
   ]
  },
  {
   "cell_type": "code",
   "execution_count": 13,
   "metadata": {},
   "outputs": [],
   "source": [
    "model = Sequential()\n",
    "model.add(Conv1D(filters=64, kernel_size=3, activation='relu', input_shape=(n_timesteps,n_features)))\n",
    "model.add(Conv1D(filters=64, kernel_size=3, activation='relu', padding = 'same'))\n",
    "model.add(Dropout(0.4))\n",
    "model.add(MaxPooling1D(pool_size=2))\n",
    "model.add(Flatten())\n",
    "model.add(Dense(100, activation='relu'))\n",
    "model.add(Dense(n_outputs, activation='softmax'))\n"
   ]
  },
  {
   "cell_type": "code",
   "execution_count": 14,
   "metadata": {},
   "outputs": [
    {
     "name": "stdout",
     "output_type": "stream",
     "text": [
      "Train on 27450 samples, validate on 27451 samples\n",
      "Epoch 1/10\n",
      "27450/27450 [==============================] - 49s 2ms/step - loss: 0.7255 - acc: 0.7325 - val_loss: 0.5023 - val_acc: 0.8227\n",
      "\n",
      "Epoch 00001: val_acc improved from -inf to 0.82274, saving model to wisdm_weights.h5\n",
      "Epoch 2/10\n",
      "27450/27450 [==============================] - 48s 2ms/step - loss: 0.3985 - acc: 0.8485 - val_loss: 0.3787 - val_acc: 0.8521\n",
      "\n",
      "Epoch 00002: val_acc improved from 0.82274 to 0.85210, saving model to wisdm_weights.h5\n",
      "Epoch 3/10\n",
      "27450/27450 [==============================] - 48s 2ms/step - loss: 0.3067 - acc: 0.8877 - val_loss: 0.3393 - val_acc: 0.8739\n",
      "\n",
      "Epoch 00003: val_acc improved from 0.85210 to 0.87388, saving model to wisdm_weights.h5\n",
      "Epoch 4/10\n",
      "27450/27450 [==============================] - 48s 2ms/step - loss: 0.2531 - acc: 0.9101 - val_loss: 0.2676 - val_acc: 0.8951\n",
      "\n",
      "Epoch 00004: val_acc improved from 0.87388 to 0.89509, saving model to wisdm_weights.h5\n",
      "Epoch 5/10\n",
      "27450/27450 [==============================] - 47s 2ms/step - loss: 0.2087 - acc: 0.9291 - val_loss: 0.2141 - val_acc: 0.9352\n",
      "\n",
      "Epoch 00005: val_acc improved from 0.89509 to 0.93523, saving model to wisdm_weights.h5\n",
      "Epoch 6/10\n",
      "27450/27450 [==============================] - 48s 2ms/step - loss: 0.1712 - acc: 0.9445 - val_loss: 0.2687 - val_acc: 0.9138\n",
      "\n",
      "Epoch 00006: val_acc did not improve from 0.93523\n",
      "Epoch 7/10\n",
      "27450/27450 [==============================] - 50s 2ms/step - loss: 0.1540 - acc: 0.9501 - val_loss: 0.1719 - val_acc: 0.9414\n",
      "\n",
      "Epoch 00007: val_acc improved from 0.93523 to 0.94139, saving model to wisdm_weights.h5\n",
      "Epoch 8/10\n",
      "27450/27450 [==============================] - 50s 2ms/step - loss: 0.1366 - acc: 0.9556 - val_loss: 0.1506 - val_acc: 0.9533\n",
      "\n",
      "Epoch 00008: val_acc improved from 0.94139 to 0.95326, saving model to wisdm_weights.h5\n",
      "Epoch 9/10\n",
      "27450/27450 [==============================] - 49s 2ms/step - loss: 0.1261 - acc: 0.9577 - val_loss: 0.1528 - val_acc: 0.9532\n",
      "\n",
      "Epoch 00009: val_acc did not improve from 0.95326\n",
      "Epoch 10/10\n",
      "27450/27450 [==============================] - 51s 2ms/step - loss: 0.1114 - acc: 0.9646 - val_loss: 0.1433 - val_acc: 0.9554\n",
      "\n",
      "Epoch 00010: val_acc improved from 0.95326 to 0.95545, saving model to wisdm_weights.h5\n",
      "27451/27451 [==============================] - 11s 394us/step\n",
      "[INFO] loss=0.1433, accuracy: 95.5448%\n"
     ]
    }
   ],
   "source": [
    "# Load Weights\n",
    "final_model = Model(inputs = model.input, outputs = model.output)\n",
    "#final_model.load_weights('./har_weights.h5')\n",
    "final_model.compile(loss='categorical_crossentropy', optimizer='adam', metrics=['accuracy'])\n",
    "\n",
    "# fit network\n",
    "history = final_model.fit(X_train, y_train, validation_data=(X_test, y_test), \n",
    "                    epochs=epochs, batch_size=batch_size, callbacks = [checkpoint], verbose=verbose)\n",
    "\n",
    "\n",
    "# evaluate model\n",
    "(loss, accuracy) = final_model.evaluate(X_test, y_test, batch_size=batch_size, verbose=verbose)\n",
    "print(\"[INFO] loss={:.4f}, accuracy: {:.4f}%\".format(loss, accuracy * 100))"
   ]
  },
  {
   "cell_type": "code",
   "execution_count": 15,
   "metadata": {},
   "outputs": [
    {
     "data": {
      "image/png": "[encoded data removed]",
      "text/plain": [
       "<Figure size 432x288 with 2 Axes>"
      ]
     },
     "metadata": {
      "needs_background": "light"
     },
     "output_type": "display_data"
    }
   ],
   "source": [
    "\n",
    "# Print confusion matrix for training data\n",
    "y_pred_train = final_model.predict(X_train)\n",
    "# Take the class with the highest probability from the train predictions\n",
    "max_y_pred_train = np.argmax(y_pred_train, axis=1)\n",
    "#print(classification_report(trainy, max_y_pred_train))\n",
    "\n",
    "# confusion matrix\n",
    "LABELS = ['WALKING',\n",
    "          'WALKING_UPSTAIRS',\n",
    "          'WALKING_DOWNSTAIRS',\n",
    "          'SITTING',\n",
    "          'STANDING',\n",
    "          'LAYING']\n",
    "y_pred_test = final_model.predict(X_test)\n",
    "# Take the class with the highest probability from the test predictions\n",
    "max_y_pred_test = np.argmax(y_pred_test, axis=1)\n",
    "max_y_test = np.argmax(y_test, axis=1)\n",
    "\n",
    "matrix = metrics.confusion_matrix(max_y_test, max_y_pred_test)\n",
    "plt.figure(figsize=(6, 4))\n",
    "sns.heatmap(matrix,\n",
    "            cmap='PuOr',\n",
    "            linecolor='white',\n",
    "            linewidths=1,\n",
    "            xticklabels=LABELS,\n",
    "            yticklabels=LABELS,\n",
    "            annot=True,\n",
    "            fmt='d')\n",
    "plt.title('Confusion Matrix')\n",
    "plt.ylabel('True Label')\n",
    "plt.xlabel('Predicted Label')\n",
    "plt.show()\n"
   ]
  },
  {
   "cell_type": "code",
   "execution_count": null,
   "metadata": {},
   "outputs": [],
   "source": []
  }
 ],
 "metadata": {
  "kernelspec": {
   "display_name": "Python 3",
   "language": "python",
   "name": "python3"
  },
  "language_info": {
   "codemirror_mode": {
    "name": "ipython",
    "version": 3
   },
   "file_extension": ".py",
   "mimetype": "text/x-python",
   "name": "python",
   "nbconvert_exporter": "python",
   "pygments_lexer": "ipython3",
   "version": "3.6.7"
  }
 },
 "nbformat": 4,
 "nbformat_minor": 2
}
