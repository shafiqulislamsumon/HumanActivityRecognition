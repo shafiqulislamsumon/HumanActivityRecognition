{
 "cells": [
  {
   "cell_type": "code",
   "execution_count": 1,
   "metadata": {},
   "outputs": [
    {
     "name": "stderr",
     "output_type": "stream",
     "text": [
      "Using TensorFlow backend.\n"
     ]
    }
   ],
   "source": [
    "import pandas as pd\n",
    "import numpy as np\n",
    "import os\n",
    "import matplotlib.pyplot as plt\n",
    "import seaborn as sns\n",
    "from scipy import stats\n",
    "from sklearn import metrics\n",
    "from sklearn.model_selection import train_test_split\n",
    "from keras.models import Sequential, Model\n",
    "from keras.layers import Dense\n",
    "from keras.layers import Flatten\n",
    "from keras.layers import Dropout\n",
    "from keras.callbacks import ModelCheckpoint\n",
    "from keras.layers.convolutional import Conv1D\n",
    "from keras.layers.convolutional import MaxPooling1D\n",
    "RANDOM_SEED = 42"
   ]
  },
  {
   "cell_type": "markdown",
   "metadata": {},
   "source": [
    "# Load Dataset"
   ]
  },
  {
   "cell_type": "code",
   "execution_count": 2,
   "metadata": {},
   "outputs": [
    {
     "name": "stdout",
     "output_type": "stream",
     "text": [
      "['Jogging', 'Sit_Down', 'Skip', 'Stand_Up', 'Stay', 'Walk']\n",
      "Jogging\n",
      "Sit_Down\n",
      "Skip\n",
      "Stand_Up\n",
      "Stay\n",
      "Walk\n"
     ]
    }
   ],
   "source": [
    "dataset_path = './data/HASC/'\n",
    "activity_folders = os.listdir(dataset_path)\n",
    "print(activity_folders)\n",
    "\n",
    "data_frame = pd.DataFrame()\n",
    "df_list = []\n",
    "\n",
    "for i in range(len(activity_folders)):\n",
    "    activity_folder = activity_folders[i]\n",
    "    print(activity_folder)\n",
    "    \n",
    "    person_folder_path = dataset_path + activity_folder + '/'\n",
    "    person_folders = os.listdir(person_folder_path)\n",
    "    \n",
    "    for j in range(len(person_folders)):\n",
    "        person_folder = person_folders[j]\n",
    "        #print(person_folder)\n",
    "        \n",
    "        csv_file_path = dataset_path + activity_folder + '/' + person_folder + '/'\n",
    "        csv_files = os.listdir(csv_file_path)\n",
    "        \n",
    "        for k in range(len(csv_files)):\n",
    "            csv_file = csv_files[k]\n",
    "            #print(csv_file)\n",
    "            \n",
    "            df = pd.read_csv(csv_file_path + '/' + csv_file, index_col=None, header=None)\n",
    "            df['Activity'] = activity_folder\n",
    "            df_list.append(df)\n",
    "        \n",
    "data_frame = pd.concat(df_list, axis = 0, sort= True, ignore_index = True)\n",
    "data_frame.columns = ['Timestamp', 'Ax', 'Ay', 'Az', 'Activity']"
   ]
  },
  {
   "cell_type": "code",
   "execution_count": 3,
   "metadata": {},
   "outputs": [
    {
     "name": "stdout",
     "output_type": "stream",
     "text": [
      "Timestamp    593233\n",
      "Ax           593233\n",
      "Ay           593233\n",
      "Az           593233\n",
      "Activity     593233\n",
      "dtype: int64\n"
     ]
    },
    {
     "data": {
      "text/html": [
       "<div>\n",
       "<style scoped>\n",
       "    .dataframe tbody tr th:only-of-type {\n",
       "        vertical-align: middle;\n",
       "    }\n",
       "\n",
       "    .dataframe tbody tr th {\n",
       "        vertical-align: top;\n",
       "    }\n",
       "\n",
       "    .dataframe thead th {\n",
       "        text-align: right;\n",
       "    }\n",
       "</style>\n",
       "<table border=\"1\" class=\"dataframe\">\n",
       "  <thead>\n",
       "    <tr style=\"text-align: right;\">\n",
       "      <th></th>\n",
       "      <th>Timestamp</th>\n",
       "      <th>Ax</th>\n",
       "      <th>Ay</th>\n",
       "      <th>Az</th>\n",
       "      <th>Activity</th>\n",
       "    </tr>\n",
       "  </thead>\n",
       "  <tbody>\n",
       "    <tr>\n",
       "      <th>0</th>\n",
       "      <td>10122.863440</td>\n",
       "      <td>0.618271</td>\n",
       "      <td>-1.966354</td>\n",
       "      <td>0.961472</td>\n",
       "      <td>Jogging</td>\n",
       "    </tr>\n",
       "    <tr>\n",
       "      <th>1</th>\n",
       "      <td>10122.934788</td>\n",
       "      <td>0.457809</td>\n",
       "      <td>-1.044403</td>\n",
       "      <td>0.726517</td>\n",
       "      <td>Jogging</td>\n",
       "    </tr>\n",
       "    <tr>\n",
       "      <th>2</th>\n",
       "      <td>10122.944823</td>\n",
       "      <td>0.724289</td>\n",
       "      <td>-0.825272</td>\n",
       "      <td>0.512680</td>\n",
       "      <td>Jogging</td>\n",
       "    </tr>\n",
       "    <tr>\n",
       "      <th>3</th>\n",
       "      <td>10122.954857</td>\n",
       "      <td>0.762573</td>\n",
       "      <td>-0.568726</td>\n",
       "      <td>0.249176</td>\n",
       "      <td>Jogging</td>\n",
       "    </tr>\n",
       "    <tr>\n",
       "      <th>4</th>\n",
       "      <td>10122.964863</td>\n",
       "      <td>0.736816</td>\n",
       "      <td>-0.304901</td>\n",
       "      <td>0.134369</td>\n",
       "      <td>Jogging</td>\n",
       "    </tr>\n",
       "  </tbody>\n",
       "</table>\n",
       "</div>"
      ],
      "text/plain": [
       "      Timestamp        Ax        Ay        Az Activity\n",
       "0  10122.863440  0.618271 -1.966354  0.961472  Jogging\n",
       "1  10122.934788  0.457809 -1.044403  0.726517  Jogging\n",
       "2  10122.944823  0.724289 -0.825272  0.512680  Jogging\n",
       "3  10122.954857  0.762573 -0.568726  0.249176  Jogging\n",
       "4  10122.964863  0.736816 -0.304901  0.134369  Jogging"
      ]
     },
     "execution_count": 3,
     "metadata": {},
     "output_type": "execute_result"
    }
   ],
   "source": [
    "print(data_frame.count())\n",
    "data_frame.head()"
   ]
  },
  {
   "cell_type": "code",
   "execution_count": 4,
   "metadata": {},
   "outputs": [
    {
     "data": {
      "image/png": "[encoded data removed]",
      "text/plain": [
       "<Figure size 432x288 with 1 Axes>"
      ]
     },
     "metadata": {},
     "output_type": "display_data"
    }
   ],
   "source": [
    "colours = [\"crimson\", \"dodgerblue\", \"darkorange\", \"green\", \"orchid\", \"olive\", \"lightseagreen\", \"violet\"]\n",
    "sns.set(rc={'figure.figsize':(6, 4)})\n",
    "fig = sns.countplot(x = \"Activity\" , data = data_frame, palette=colours)\n",
    "fig.set_xticklabels(fig.get_xticklabels(), rotation=30, ha=\"right\", fontsize = 9)\n",
    "plt.xlabel(\"Activity\")\n",
    "plt.ylabel(\"Count\")\n",
    "plt.title(\"Records by Activity Type\")\n",
    "#plt.grid(True)\n",
    "plt.show(fig)"
   ]
  },
  {
   "cell_type": "markdown",
   "metadata": {},
   "source": [
    "# Normalize Training Data"
   ]
  },
  {
   "cell_type": "code",
   "execution_count": 5,
   "metadata": {},
   "outputs": [],
   "source": [
    "# Normalize features for training data set (values between 0 and 1)\n",
    "# Surpress warning for next 3 operation\n",
    "pd.options.mode.chained_assignment = None  # default='warn'\n",
    "\n",
    "data_frame['Ax'] = data_frame['Ax'] / data_frame['Ax'].max()\n",
    "data_frame['Ay'] = data_frame['Ay'] / data_frame['Ay'].max()\n",
    "data_frame['Az'] = data_frame['Az'] / data_frame['Az'].max()\n",
    "# Round numbers\n",
    "data_frame = data_frame.round({'Ax': 4, 'Ay': 4, 'Az': 4})"
   ]
  },
  {
   "cell_type": "markdown",
   "metadata": {},
   "source": [
    "# Data Preprocessing"
   ]
  },
  {
   "cell_type": "code",
   "execution_count": 6,
   "metadata": {},
   "outputs": [
    {
     "name": "stderr",
     "output_type": "stream",
     "text": [
      "C:\\Users\\admin\\Anaconda3\\lib\\site-packages\\scipy\\stats\\stats.py:245: RuntimeWarning: The input array could not be properly checked for nan values. nan values will be ignored.\n",
      "  \"values. nan values will be ignored.\", RuntimeWarning)\n"
     ]
    }
   ],
   "source": [
    "N_TIME_STEPS = 200\n",
    "N_FEATURES = 3\n",
    "step = 20\n",
    "segments = []\n",
    "labels = []\n",
    "\n",
    "for i in range(0, len(data_frame) - N_TIME_STEPS, step):\n",
    "    xs = data_frame['Ax'].values[i: i + N_TIME_STEPS]\n",
    "    ys = data_frame['Ay'].values[i: i + N_TIME_STEPS]\n",
    "    zs = data_frame['Az'].values[i: i + N_TIME_STEPS]\n",
    "    label = stats.mode(data_frame['Activity'][i: i + N_TIME_STEPS])[0][0]\n",
    "    segments.append([xs, ys, zs])\n",
    "    labels.append(label)"
   ]
  },
  {
   "cell_type": "code",
   "execution_count": 7,
   "metadata": {},
   "outputs": [],
   "source": [
    "reshaped_segments = np.asarray(segments, dtype= np.float32).reshape(-1, N_TIME_STEPS, N_FEATURES)\n",
    "labels = np.asarray(pd.get_dummies(labels), dtype = np.float32)"
   ]
  },
  {
   "cell_type": "code",
   "execution_count": 8,
   "metadata": {},
   "outputs": [
    {
     "name": "stdout",
     "output_type": "stream",
     "text": [
      "(29652, 200, 3)\n",
      "[1. 0. 0. 0. 0. 0.]\n"
     ]
    }
   ],
   "source": [
    "print(reshaped_segments.shape)\n",
    "print(labels[0])"
   ]
  },
  {
   "cell_type": "code",
   "execution_count": 9,
   "metadata": {},
   "outputs": [],
   "source": [
    "X_train, X_test, y_train, y_test = train_test_split(\n",
    "        reshaped_segments, labels, test_size=0.2, random_state=RANDOM_SEED)"
   ]
  },
  {
   "cell_type": "code",
   "execution_count": 10,
   "metadata": {},
   "outputs": [
    {
     "name": "stdout",
     "output_type": "stream",
     "text": [
      "X_train :  23721\n",
      "y_train :  23721\n",
      "X_test :  5931\n",
      "y_test :  5931\n"
     ]
    }
   ],
   "source": [
    "print('X_train : ', len(X_train))\n",
    "print('y_train : ', len(y_train))\n",
    "print('X_test : ', len(X_test))\n",
    "print('y_test : ', len(y_test))"
   ]
  },
  {
   "cell_type": "code",
   "execution_count": 11,
   "metadata": {},
   "outputs": [
    {
     "name": "stdout",
     "output_type": "stream",
     "text": [
      "n_timesteps :  200\n",
      "n_features :  3\n",
      "n_outputs :  6\n"
     ]
    }
   ],
   "source": [
    "verbose = 1\n",
    "epochs = 10\n",
    "batch_size = 400\n",
    "\n",
    "n_timesteps = X_train.shape[1]\n",
    "n_features = X_train.shape[2]\n",
    "n_outputs = y_train.shape[1]\n",
    "\n",
    "print('n_timesteps : ', n_timesteps)\n",
    "print('n_features : ', n_features)\n",
    "print('n_outputs : ', n_outputs)"
   ]
  },
  {
   "cell_type": "code",
   "execution_count": 12,
   "metadata": {},
   "outputs": [],
   "source": [
    "checkpoint = ModelCheckpoint(\"hasc_weights.h5\", monitor='val_acc', verbose=1, \n",
    "                             save_best_only=True, save_weights_only=False, mode='auto', period=1)"
   ]
  },
  {
   "cell_type": "code",
   "execution_count": 13,
   "metadata": {},
   "outputs": [],
   "source": [
    "model = Sequential()\n",
    "model.add(Conv1D(filters=64, kernel_size=3, activation='relu', input_shape=(n_timesteps,n_features)))\n",
    "model.add(Conv1D(filters=64, kernel_size=3, activation='relu', padding = 'same'))\n",
    "model.add(Dropout(0.4))\n",
    "model.add(MaxPooling1D(pool_size=2))\n",
    "model.add(Flatten())\n",
    "model.add(Dense(100, activation='relu'))\n",
    "model.add(Dense(n_outputs, activation='softmax'))"
   ]
  },
  {
   "cell_type": "code",
   "execution_count": 14,
   "metadata": {},
   "outputs": [
    {
     "name": "stdout",
     "output_type": "stream",
     "text": [
      "Train on 23721 samples, validate on 5931 samples\n",
      "Epoch 1/10\n",
      "23721/23721 [==============================] - 38s 2ms/step - loss: 0.7731 - acc: 0.6781 - val_loss: 0.5074 - val_acc: 0.8154\n",
      "\n",
      "Epoch 00001: val_acc improved from -inf to 0.81538, saving model to hasc_weights.h5\n",
      "Epoch 2/10\n",
      "23721/23721 [==============================] - 38s 2ms/step - loss: 0.3778 - acc: 0.8549 - val_loss: 0.3387 - val_acc: 0.8894\n",
      "\n",
      "Epoch 00002: val_acc improved from 0.81538 to 0.88939, saving model to hasc_weights.h5\n",
      "Epoch 3/10\n",
      "23721/23721 [==============================] - 39s 2ms/step - loss: 0.2442 - acc: 0.9139 - val_loss: 0.2548 - val_acc: 0.9204\n",
      "\n",
      "Epoch 00003: val_acc improved from 0.88939 to 0.92042, saving model to hasc_weights.h5\n",
      "Epoch 4/10\n",
      "23721/23721 [==============================] - 39s 2ms/step - loss: 0.1835 - acc: 0.9368 - val_loss: 0.1991 - val_acc: 0.9430\n",
      "\n",
      "Epoch 00004: val_acc improved from 0.92042 to 0.94301, saving model to hasc_weights.h5\n",
      "Epoch 5/10\n",
      "23721/23721 [==============================] - 39s 2ms/step - loss: 0.1504 - acc: 0.9499 - val_loss: 0.1701 - val_acc: 0.9514\n",
      "\n",
      "Epoch 00005: val_acc improved from 0.94301 to 0.95144, saving model to hasc_weights.h5\n",
      "Epoch 6/10\n",
      "23721/23721 [==============================] - 40s 2ms/step - loss: 0.1183 - acc: 0.9603 - val_loss: 0.1343 - val_acc: 0.9590\n",
      "\n",
      "Epoch 00006: val_acc improved from 0.95144 to 0.95903, saving model to hasc_weights.h5\n",
      "Epoch 7/10\n",
      "23721/23721 [==============================] - 38s 2ms/step - loss: 0.1023 - acc: 0.9648 - val_loss: 0.1297 - val_acc: 0.9656\n",
      "\n",
      "Epoch 00007: val_acc improved from 0.95903 to 0.96560, saving model to hasc_weights.h5\n",
      "Epoch 8/10\n",
      "23721/23721 [==============================] - 38s 2ms/step - loss: 0.0868 - acc: 0.9705 - val_loss: 0.1263 - val_acc: 0.9568\n",
      "\n",
      "Epoch 00008: val_acc did not improve from 0.96560\n",
      "Epoch 9/10\n",
      "23721/23721 [==============================] - 39s 2ms/step - loss: 0.0778 - acc: 0.9736 - val_loss: 0.1470 - val_acc: 0.9553\n",
      "\n",
      "Epoch 00009: val_acc did not improve from 0.96560\n",
      "Epoch 10/10\n",
      "23721/23721 [==============================] - 40s 2ms/step - loss: 0.0673 - acc: 0.9775 - val_loss: 0.1039 - val_acc: 0.9690\n",
      "\n",
      "Epoch 00010: val_acc improved from 0.96560 to 0.96898, saving model to hasc_weights.h5\n",
      "5931/5931 [==============================] - 2s 365us/step\n",
      "[INFO] loss=0.1039, accuracy: 96.8977%\n"
     ]
    }
   ],
   "source": [
    "# Load Weights\n",
    "final_model = Model(inputs = model.input, outputs = model.output)\n",
    "#final_model.load_weights('./har_weights.h5')\n",
    "final_model.compile(loss='categorical_crossentropy', optimizer='adam', metrics=['accuracy'])\n",
    "\n",
    "# fit network\n",
    "history = final_model.fit(X_train, y_train, validation_data=(X_test, y_test), \n",
    "                    epochs=epochs, batch_size=batch_size, callbacks = [checkpoint], verbose=verbose)\n",
    "\n",
    "\n",
    "# evaluate model\n",
    "(loss, accuracy) = final_model.evaluate(X_test, y_test, batch_size=batch_size, verbose=verbose)\n",
    "print(\"[INFO] loss={:.4f}, accuracy: {:.4f}%\".format(loss, accuracy * 100))"
   ]
  },
  {
   "cell_type": "code",
   "execution_count": 15,
   "metadata": {},
   "outputs": [
    {
     "data": {
      "image/png": "[encoded data removed]",
      "text/plain": [
       "<Figure size 432x288 with 2 Axes>"
      ]
     },
     "metadata": {},
     "output_type": "display_data"
    }
   ],
   "source": [
    "\n",
    "# Print confusion matrix for training data\n",
    "y_pred_train = final_model.predict(X_train)\n",
    "# Take the class with the highest probability from the train predictions\n",
    "max_y_pred_train = np.argmax(y_pred_train, axis=1)\n",
    "#print(classification_report(trainy, max_y_pred_train))\n",
    "\n",
    "# confusion matrix\n",
    "LABELS = ['Jogging', \n",
    "          'Sit_Down', \n",
    "          'Skip', \n",
    "          'Stand_Up', \n",
    "          'Stay', \n",
    "          'Walk']\n",
    "\n",
    "y_pred_test = final_model.predict(X_test)\n",
    "# Take the class with the highest probability from the test predictions\n",
    "max_y_pred_test = np.argmax(y_pred_test, axis=1)\n",
    "max_y_test = np.argmax(y_test, axis=1)\n",
    "\n",
    "matrix = metrics.confusion_matrix(max_y_test, max_y_pred_test)\n",
    "plt.figure(figsize=(6, 4))\n",
    "sns.heatmap(matrix,\n",
    "            cmap='coolwarm',\n",
    "            linecolor='white',\n",
    "            linewidths=1,\n",
    "            xticklabels=LABELS,\n",
    "            yticklabels=LABELS,\n",
    "            annot=True,\n",
    "            fmt='d')\n",
    "plt.title('Confusion Matrix')\n",
    "plt.ylabel('True Label')\n",
    "plt.xlabel('Predicted Label')\n",
    "plt.show()\n"
   ]
  },
  {
   "cell_type": "code",
   "execution_count": null,
   "metadata": {},
   "outputs": [],
   "source": []
  }
 ],
 "metadata": {
  "kernelspec": {
   "display_name": "Python 3",
   "language": "python",
   "name": "python3"
  },
  "language_info": {
   "codemirror_mode": {
    "name": "ipython",
    "version": 3
   },
   "file_extension": ".py",
   "mimetype": "text/x-python",
   "name": "python",
   "nbconvert_exporter": "python",
   "pygments_lexer": "ipython3",
   "version": "3.6.7"
  }
 },
 "nbformat": 4,
 "nbformat_minor": 2
}
